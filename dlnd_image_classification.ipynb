{
 "cells": [
  {
   "cell_type": "markdown",
   "metadata": {
    "collapsed": true
   },
   "source": [
    "# Image Classification\n",
    "In this project, you'll classify images from the [CIFAR-10 dataset](https://www.cs.toronto.edu/~kriz/cifar.html).  The dataset consists of airplanes, dogs, cats, and other objects. You'll preprocess the images, then train a convolutional neural network on all the samples. The images need to be normalized and the labels need to be one-hot encoded.  You'll get to apply what you learned and build a convolutional, max pooling, dropout, and fully connected layers.  At the end, you'll get to see your neural network's predictions on the sample images.\n",
    "## Get the Data\n",
    "Run the following cell to download the [CIFAR-10 dataset for python](https://www.cs.toronto.edu/~kriz/cifar-10-python.tar.gz)."
   ]
  },
  {
   "cell_type": "code",
   "execution_count": null,
   "metadata": {
    "collapsed": true
   },
   "outputs": [],
   "source": []
  },
  {
   "cell_type": "code",
   "execution_count": 1,
   "metadata": {
    "collapsed": false
   },
   "outputs": [
    {
     "name": "stdout",
     "output_type": "stream",
     "text": [
      "All files found!\n"
     ]
    }
   ],
   "source": [
    "\"\"\"\n",
    "DON'T MODIFY ANYTHING IN THIS CELL THAT IS BELOW THIS LINE\n",
    "\"\"\"\n",
    "from urllib.request import urlretrieve\n",
    "from os.path import isfile, isdir\n",
    "from tqdm import tqdm\n",
    "import problem_unittests as tests\n",
    "import tarfile\n",
    "\n",
    "cifar10_dataset_folder_path = 'cifar-10-batches-py'\n",
    "\n",
    "# Use Floyd's cifar-10 dataset if present\n",
    "floyd_cifar10_location = '/input/cifar-10/python.tar.gz'\n",
    "if isfile(floyd_cifar10_location):\n",
    "    tar_gz_path = floyd_cifar10_location\n",
    "else:\n",
    "    tar_gz_path = 'cifar-10-python.tar.gz'\n",
    "\n",
    "class DLProgress(tqdm):\n",
    "    last_block = 0\n",
    "\n",
    "    def hook(self, block_num=1, block_size=1, total_size=None):\n",
    "        self.total = total_size\n",
    "        self.update((block_num - self.last_block) * block_size)\n",
    "        self.last_block = block_num\n",
    "\n",
    "if not isfile(tar_gz_path):\n",
    "    with DLProgress(unit='B', unit_scale=True, miniters=1, desc='CIFAR-10 Dataset') as pbar:\n",
    "        urlretrieve(\n",
    "            'https://www.cs.toronto.edu/~kriz/cifar-10-python.tar.gz',\n",
    "            tar_gz_path,\n",
    "            pbar.hook)\n",
    "\n",
    "if not isdir(cifar10_dataset_folder_path):\n",
    "    with tarfile.open(tar_gz_path) as tar:\n",
    "        tar.extractall()\n",
    "        tar.close()\n",
    "\n",
    "\n",
    "tests.test_folder_path(cifar10_dataset_folder_path)"
   ]
  },
  {
   "cell_type": "markdown",
   "metadata": {},
   "source": [
    "## Explore the Data\n",
    "The dataset is broken into batches to prevent your machine from running out of memory.  The CIFAR-10 dataset consists of 5 batches, named `data_batch_1`, `data_batch_2`, etc.. Each batch contains the labels and images that are one of the following:\n",
    "* airplane\n",
    "* automobile\n",
    "* bird\n",
    "* cat\n",
    "* deer\n",
    "* dog\n",
    "* frog\n",
    "* horse\n",
    "* ship\n",
    "* truck\n",
    "\n",
    "Understanding a dataset is part of making predictions on the data.  Play around with the code cell below by changing the `batch_id` and `sample_id`. The `batch_id` is the id for a batch (1-5). The `sample_id` is the id for a image and label pair in the batch.\n",
    "\n",
    "Ask yourself \"What are all possible labels?\", \"What is the range of values for the image data?\", \"Are the labels in order or random?\".  Answers to questions like these will help you preprocess the data and end up with better predictions."
   ]
  },
  {
   "cell_type": "code",
   "execution_count": 2,
   "metadata": {
    "collapsed": false
   },
   "outputs": [
    {
     "name": "stdout",
     "output_type": "stream",
     "text": [
      "\n",
      "Stats of batch 1:\n",
      "Samples: 10000\n",
      "Label Counts: {0: 1005, 1: 974, 2: 1032, 3: 1016, 4: 999, 5: 937, 6: 1030, 7: 1001, 8: 1025, 9: 981}\n",
      "First 20 Labels: [6, 9, 9, 4, 1, 1, 2, 7, 8, 3, 4, 7, 7, 2, 9, 9, 9, 3, 2, 6]\n",
      "\n",
      "Example of Image 5:\n",
      "Image - Min Value: 0 Max Value: 252\n",
      "Image - Shape: (32, 32, 3)\n",
      "Label - Label Id: 1 Name: automobile\n"
     ]
    },
    {
     "data": {
      "image/png": "[encoded data removed]",
      "text/plain": [
       "<matplotlib.figure.Figure at 0x1124d9710>"
      ]
     },
     "metadata": {
      "image/png": {
       "height": 250,
       "width": 253
      }
     },
     "output_type": "display_data"
    }
   ],
   "source": [
    "%matplotlib inline\n",
    "%config InlineBackend.figure_format = 'retina'\n",
    "\n",
    "import helper\n",
    "import numpy as np\n",
    "\n",
    "# Explore the dataset\n",
    "batch_id = 1\n",
    "sample_id = 5\n",
    "helper.display_stats(cifar10_dataset_folder_path, batch_id, sample_id)"
   ]
  },
  {
   "cell_type": "markdown",
   "metadata": {},
   "source": [
    "## Implement Preprocess Functions\n",
    "### Normalize\n",
    "In the cell below, implement the `normalize` function to take in image data, `x`, and return it as a normalized Numpy array. The values should be in the range of 0 to 1, inclusive.  The return object should be the same shape as `x`."
   ]
  },
  {
   "cell_type": "code",
   "execution_count": 3,
   "metadata": {
    "collapsed": false
   },
   "outputs": [
    {
     "name": "stdout",
     "output_type": "stream",
     "text": [
      "Tests Passed\n"
     ]
    }
   ],
   "source": [
    "def normalize(x):\n",
    "    \"\"\"\n",
    "    Normalize a list of sample image data in the range of 0 to 1\n",
    "    : x: List of image data.  The image shape is (32, 32, 3)\n",
    "    : return: Numpy array of normalize data\n",
    "    \"\"\"\n",
    "    # TODO: Implement Function\n",
    "    \n",
    "    return x/255\n",
    "\n",
    "\n",
    "\"\"\"\n",
    "DON'T MODIFY ANYTHING IN THIS CELL THAT IS BELOW THIS LINE\n",
    "\"\"\"\n",
    "tests.test_normalize(normalize)"
   ]
  },
  {
   "cell_type": "markdown",
   "metadata": {},
   "source": [
    "### One-hot encode\n",
    "Just like the previous code cell, you'll be implementing a function for preprocessing.  This time, you'll implement the `one_hot_encode` function. The input, `x`, are a list of labels.  Implement the function to return the list of labels as One-Hot encoded Numpy array.  The possible values for labels are 0 to 9. The one-hot encoding function should return the same encoding for each value between each call to `one_hot_encode`.  Make sure to save the map of encodings outside the function.\n",
    "\n",
    "Hint: Don't reinvent the wheel."
   ]
  },
  {
   "cell_type": "code",
   "execution_count": 4,
   "metadata": {
    "collapsed": false
   },
   "outputs": [
    {
     "name": "stdout",
     "output_type": "stream",
     "text": [
      "Tests Passed\n"
     ]
    }
   ],
   "source": [
    "def one_hot_encode(x):\n",
    "    \"\"\"\n",
    "    One hot encode a list of sample labels. Return a one-hot encoded vector for each label.\n",
    "    : x: List of sample Labels\n",
    "    : return: Numpy array of one-hot encoded labels\n",
    "    \"\"\"\n",
    "    # TODO: Implement Function\n",
    "    \n",
    "    labels = 10\n",
    "    one_hot_encode = np.eye(labels)[x] #Stack overflow\n",
    "    return one_hot_encode\n",
    "\n",
    "\n",
    "\n",
    "\"\"\"\n",
    "DON'T MODIFY ANYTHING IN THIS CELL THAT IS BELOW THIS LINE\n",
    "\"\"\"\n",
    "tests.test_one_hot_encode(one_hot_encode)"
   ]
  },
  {
   "cell_type": "markdown",
   "metadata": {},
   "source": [
    "### Randomize Data\n",
    "As you saw from exploring the data above, the order of the samples are randomized.  It doesn't hurt to randomize it again, but you don't need to for this dataset."
   ]
  },
  {
   "cell_type": "markdown",
   "metadata": {},
   "source": [
    "## Preprocess all the data and save it\n",
    "Running the code cell below will preprocess all the CIFAR-10 data and save it to file. The code below also uses 10% of the training data for validation."
   ]
  },
  {
   "cell_type": "code",
   "execution_count": 5,
   "metadata": {
    "collapsed": true
   },
   "outputs": [],
   "source": [
    "\"\"\"\n",
    "DON'T MODIFY ANYTHING IN THIS CELL\n",
    "\"\"\"\n",
    "# Preprocess Training, Validation, and Testing Data\n",
    "helper.preprocess_and_save_data(cifar10_dataset_folder_path, normalize, one_hot_encode)"
   ]
  },
  {
   "cell_type": "markdown",
   "metadata": {},
   "source": [
    "# Check Point\n",
    "This is your first checkpoint.  If you ever decide to come back to this notebook or have to restart the notebook, you can start from here.  The preprocessed data has been saved to disk."
   ]
  },
  {
   "cell_type": "code",
   "execution_count": 6,
   "metadata": {
    "collapsed": true
   },
   "outputs": [],
   "source": [
    "\"\"\"\n",
    "DON'T MODIFY ANYTHING IN THIS CELL\n",
    "\"\"\"\n",
    "import pickle\n",
    "import problem_unittests as tests\n",
    "import helper\n",
    "\n",
    "# Load the Preprocessed Validation data\n",
    "valid_features, valid_labels = pickle.load(open('preprocess_validation.p', mode='rb'))"
   ]
  },
  {
   "cell_type": "markdown",
   "metadata": {},
   "source": [
    "## Build the network\n",
    "For the neural network, you'll build each layer into a function.  Most of the code you've seen has been outside of functions. To test your code more thoroughly, we require that you put each layer in a function.  This allows us to give you better feedback and test for simple mistakes using our unittests before you submit your project.\n",
    "\n",
    ">**Note:** If you're finding it hard to dedicate enough time for this course each week, we've provided a small shortcut to this part of the project. In the next couple of problems, you'll have the option to use classes from the [TensorFlow Layers](https://www.tensorflow.org/api_docs/python/tf/layers) or [TensorFlow Layers (contrib)](https://www.tensorflow.org/api_guides/python/contrib.layers) packages to build each layer, except the layers you build in the \"Convolutional and Max Pooling Layer\" section.  TF Layers is similar to Keras's and TFLearn's abstraction to layers, so it's easy to pickup.\n",
    "\n",
    ">However, if you would like to get the most out of this course, try to solve all the problems _without_ using anything from the TF Layers packages. You **can** still use classes from other packages that happen to have the same name as ones you find in TF Layers! For example, instead of using the TF Layers version of the `conv2d` class, [tf.layers.conv2d](https://www.tensorflow.org/api_docs/python/tf/layers/conv2d), you would want to use the TF Neural Network version of `conv2d`, [tf.nn.conv2d](https://www.tensorflow.org/api_docs/python/tf/nn/conv2d). \n",
    "\n",
    "Let's begin!\n",
    "\n",
    "### Input\n",
    "The neural network needs to read the image data, one-hot encoded labels, and dropout keep probability. Implement the following functions\n",
    "* Implement `neural_net_image_input`\n",
    " * Return a [TF Placeholder](https://www.tensorflow.org/api_docs/python/tf/placeholder)\n",
    " * Set the shape using `image_shape` with batch size set to `None`.\n",
    " * Name the TensorFlow placeholder \"x\" using the TensorFlow `name` parameter in the [TF Placeholder](https://www.tensorflow.org/api_docs/python/tf/placeholder).\n",
    "* Implement `neural_net_label_input`\n",
    " * Return a [TF Placeholder](https://www.tensorflow.org/api_docs/python/tf/placeholder)\n",
    " * Set the shape using `n_classes` with batch size set to `None`.\n",
    " * Name the TensorFlow placeholder \"y\" using the TensorFlow `name` parameter in the [TF Placeholder](https://www.tensorflow.org/api_docs/python/tf/placeholder).\n",
    "* Implement `neural_net_keep_prob_input`\n",
    " * Return a [TF Placeholder](https://www.tensorflow.org/api_docs/python/tf/placeholder) for dropout keep probability.\n",
    " * Name the TensorFlow placeholder \"keep_prob\" using the TensorFlow `name` parameter in the [TF Placeholder](https://www.tensorflow.org/api_docs/python/tf/placeholder).\n",
    "\n",
    "These names will be used at the end of the project to load your saved model.\n",
    "\n",
    "Note: `None` for shapes in TensorFlow allow for a dynamic size."
   ]
  },
  {
   "cell_type": "code",
   "execution_count": 7,
   "metadata": {
    "collapsed": false
   },
   "outputs": [
    {
     "name": "stdout",
     "output_type": "stream",
     "text": [
      "Image Input Tests Passed.\n",
      "Label Input Tests Passed.\n",
      "Keep Prob Tests Passed.\n"
     ]
    }
   ],
   "source": [
    "import tensorflow as tf\n",
    "\n",
    "def neural_net_image_input(image_shape):\n",
    "    \"\"\"\n",
    "    Return a Tensor for a batch of image input\n",
    "    : image_shape: Shape of the images\n",
    "    : return: Tensor for image input.\n",
    "    \"\"\"\n",
    "    # TODO: Implement Function\n",
    "    return tf.placeholder(tf.float32,[None, image_shape[0], image_shape[1], image_shape[2]], name='x')\n",
    "    \n",
    "\n",
    "\n",
    "def neural_net_label_input(n_classes):\n",
    "    \"\"\"\n",
    "    Return a Tensor for a batch of label input\n",
    "    : n_classes: Number of classes\n",
    "    : return: Tensor for label input.\n",
    "    \"\"\"\n",
    "    # TODO: Implement Function\n",
    "    return tf.placeholder(tf.float32, [None, n_classes], name='y')\n",
    "\n",
    "\n",
    "def neural_net_keep_prob_input():\n",
    "    \"\"\"\n",
    "    Return a Tensor for keep probability\n",
    "    : return: Tensor for keep probability.\n",
    "    \"\"\"\n",
    "    # TODO: Implement Function\n",
    "    return tf.placeholder(tf.float32, name='keep_prob')\n",
    "\n",
    "\n",
    "\"\"\"\n",
    "DON'T MODIFY ANYTHING IN THIS CELL THAT IS BELOW THIS LINE\n",
    "\"\"\"\n",
    "tf.reset_default_graph()\n",
    "tests.test_nn_image_inputs(neural_net_image_input)\n",
    "tests.test_nn_label_inputs(neural_net_label_input)\n",
    "tests.test_nn_keep_prob_inputs(neural_net_keep_prob_input)"
   ]
  },
  {
   "cell_type": "markdown",
   "metadata": {},
   "source": [
    "### Convolution and Max Pooling Layer\n",
    "Convolution layers have a lot of success with images. For this code cell, you should implement the function `conv2d_maxpool` to apply convolution then max pooling:\n",
    "* Create the weight and bias using `conv_ksize`, `conv_num_outputs` and the shape of `x_tensor`.\n",
    "* Apply a convolution to `x_tensor` using weight and `conv_strides`.\n",
    " * We recommend you use same padding, but you're welcome to use any padding.\n",
    "* Add bias\n",
    "* Add a nonlinear activation to the convolution.\n",
    "* Apply Max Pooling using `pool_ksize` and `pool_strides`.\n",
    " * We recommend you use same padding, but you're welcome to use any padding.\n",
    "\n",
    "**Note:** You **can't** use [TensorFlow Layers](https://www.tensorflow.org/api_docs/python/tf/layers) or [TensorFlow Layers (contrib)](https://www.tensorflow.org/api_guides/python/contrib.layers) for **this** layer, but you can still use TensorFlow's [Neural Network](https://www.tensorflow.org/api_docs/python/tf/nn) package. You may still use the shortcut option for all the **other** layers."
   ]
  },
  {
   "cell_type": "code",
   "execution_count": 8,
   "metadata": {
    "collapsed": false
   },
   "outputs": [
    {
     "name": "stdout",
     "output_type": "stream",
     "text": [
      "Tests Passed\n"
     ]
    }
   ],
   "source": [
    "def conv2d_maxpool(x_tensor, conv_num_outputs, conv_ksize, conv_strides, pool_ksize, pool_strides):\n",
    "    \"\"\"\n",
    "    Apply convolution then max pooling to x_tensor\n",
    "    :param x_tensor: TensorFlow Tensor\n",
    "    :param conv_num_outputs: Number of outputs for the convolutional layer\n",
    "    :param conv_ksize: kernal size 2-D Tuple for the convolutional layer\n",
    "    :param conv_strides: Stride 2-D Tuple for convolution\n",
    "    :param pool_ksize: kernal size 2-D Tuple for pool\n",
    "    :param pool_strides: Stride 2-D Tuple for pool\n",
    "    : return: A tensor that represents convolution and max pooling of x_tensor\n",
    "    \"\"\"\n",
    "    # TODO: Implement Function\n",
    "    \n",
    "    \n",
    "    \n",
    "    pool_ksize = [1, *pool_ksize, 1]\n",
    "    \n",
    "    pool_strides = [1, *pool_strides, 1]\n",
    "    \n",
    "    conv_strides = [1, *conv_strides, 1]\n",
    "\n",
    "    W = tf.Variable(tf.random_normal([*conv_ksize, int(x_tensor.shape[3]),conv_num_outputs],stddev=0.02))\n",
    "    b = tf.Variable(tf.zeros(conv_num_outputs))\n",
    "    \n",
    "    x = tf.nn.conv2d(x_tensor, W, conv_strides, padding='SAME')    \n",
    "    x = tf.nn.bias_add(x, b)\n",
    "    x = tf.nn.relu(x)\n",
    "    x = tf.nn.max_pool(x, pool_ksize, pool_strides, padding='SAME')\n",
    "    \n",
    "    return x\n",
    "    \n",
    "\n",
    "\n",
    "\"\"\"\n",
    "DON'T MODIFY ANYTHING IN THIS CELL THAT IS BELOW THIS LINE\n",
    "\"\"\"\n",
    "tests.test_con_pool(conv2d_maxpool)"
   ]
  },
  {
   "cell_type": "markdown",
   "metadata": {},
   "source": [
    "### Flatten Layer\n",
    "Implement the `flatten` function to change the dimension of `x_tensor` from a 4-D tensor to a 2-D tensor.  The output should be the shape (*Batch Size*, *Flattened Image Size*). Shortcut option: you can use classes from the [TensorFlow Layers](https://www.tensorflow.org/api_docs/python/tf/layers) or [TensorFlow Layers (contrib)](https://www.tensorflow.org/api_guides/python/contrib.layers) packages for this layer. For more of a challenge, only use other TensorFlow packages."
   ]
  },
  {
   "cell_type": "code",
   "execution_count": null,
   "metadata": {
    "collapsed": false
   },
   "outputs": [],
   "source": [
    "def flatten(x_tensor):\n",
    "    \"\"\"\n",
    "    Flatten x_tensor to (Batch Size, Flattened Image Size)\n",
    "    : x_tensor: A tensor of size (Batch Size, ...), where ... are the image dimensions.\n",
    "    : return: A tensor of size (Batch Size, Flattened Image Size).\n",
    "    \"\"\"\n",
    "    # TODO: Implement Function\n",
    "    \n",
    "    _,*image_size = x_tensor.get_shape().as_list()\n",
    "    image_size = image_size[0] * image_size[1] * image_size[2]\n",
    "    return tf.reshape(x_tensor, [-1, image_size])\n",
    "\n",
    "\n",
    "\n",
    "\"\"\"\n",
    "DON'T MODIFY ANYTHING IN THIS CELL THAT IS BELOW THIS LINE\n",
    "\"\"\"\n",
    "tests.test_flatten(flatten)"
   ]
  },
  {
   "cell_type": "markdown",
   "metadata": {},
   "source": [
    "### Fully-Connected Layer\n",
    "Implement the `fully_conn` function to apply a fully connected layer to `x_tensor` with the shape (*Batch Size*, *num_outputs*). Shortcut option: you can use classes from the [TensorFlow Layers](https://www.tensorflow.org/api_docs/python/tf/layers) or [TensorFlow Layers (contrib)](https://www.tensorflow.org/api_guides/python/contrib.layers) packages for this layer. For more of a challenge, only use other TensorFlow packages."
   ]
  },
  {
   "cell_type": "code",
   "execution_count": 10,
   "metadata": {
    "collapsed": false
   },
   "outputs": [
    {
     "name": "stdout",
     "output_type": "stream",
     "text": [
      "Tests Passed\n"
     ]
    }
   ],
   "source": [
    "def fully_conn(x_tensor, num_outputs):\n",
    "    \"\"\"\n",
    "    Apply a fully connected layer to x_tensor using weight and bias\n",
    "    : x_tensor: A 2-D tensor where the first dimension is batch size.\n",
    "    : num_outputs: The number of output that the new tensor should be.\n",
    "    : return: A 2-D tensor where the second dimension is num_outputs.\n",
    "    \"\"\"\n",
    "    # TODO: Implement Function\n",
    "    \n",
    "    W = tf.Variable(tf.truncated_normal((int(x_tensor.get_shape().as_list()[1]), num_outputs),stddev=0.02))\n",
    "    b = tf.Variable(tf.zeros(num_outputs))\n",
    "    x = tf.add(tf.matmul(x_tensor, W), b)\n",
    "    x = tf.nn.relu(x)\n",
    "    return x\n",
    "\n",
    "\n",
    "\"\"\"\n",
    "DON'T MODIFY ANYTHING IN THIS CELL THAT IS BELOW THIS LINE\n",
    "\"\"\"\n",
    "tests.test_fully_conn(fully_conn)"
   ]
  },
  {
   "cell_type": "markdown",
   "metadata": {},
   "source": [
    "### Output Layer\n",
    "Implement the `output` function to apply a fully connected layer to `x_tensor` with the shape (*Batch Size*, *num_outputs*). Shortcut option: you can use classes from the [TensorFlow Layers](https://www.tensorflow.org/api_docs/python/tf/layers) or [TensorFlow Layers (contrib)](https://www.tensorflow.org/api_guides/python/contrib.layers) packages for this layer. For more of a challenge, only use other TensorFlow packages.\n",
    "\n",
    "**Note:** Activation, softmax, or cross entropy should **not** be applied to this."
   ]
  },
  {
   "cell_type": "code",
   "execution_count": 11,
   "metadata": {
    "collapsed": false
   },
   "outputs": [
    {
     "name": "stdout",
     "output_type": "stream",
     "text": [
      "Tests Passed\n"
     ]
    }
   ],
   "source": [
    "def output(x_tensor, num_outputs):\n",
    "    \"\"\"\n",
    "    Apply a output layer to x_tensor using weight and bias\n",
    "    : x_tensor: A 2-D tensor where the first dimension is batch size.\n",
    "    : num_outputs: The number of output that the new tensor should be.\n",
    "    : return: A 2-D tensor where the second dimension is num_outputs.\n",
    "    \"\"\"\n",
    "    # TODO: Implement Function\n",
    "    W = tf.Variable(tf.truncated_normal((int(x_tensor.get_shape().as_list()[1]), num_outputs),stddev=0.01))\n",
    "    b = tf.Variable(tf.zeros(num_outputs))\n",
    "    x = tf.add(tf.matmul(x_tensor, W), b)\n",
    "    return x\n",
    "\n",
    "\n",
    "\"\"\"\n",
    "DON'T MODIFY ANYTHING IN THIS CELL THAT IS BELOW THIS LINE\n",
    "\"\"\"\n",
    "tests.test_output(output)"
   ]
  },
  {
   "cell_type": "markdown",
   "metadata": {},
   "source": [
    "### Create Convolutional Model\n",
    "Implement the function `conv_net` to create a convolutional neural network model. The function takes in a batch of images, `x`, and outputs logits.  Use the layers you created above to create this model:\n",
    "\n",
    "* Apply 1, 2, or 3 Convolution and Max Pool layers\n",
    "* Apply a Flatten Layer\n",
    "* Apply 1, 2, or 3 Fully Connected Layers\n",
    "* Apply an Output Layer\n",
    "* Return the output\n",
    "* Apply [TensorFlow's Dropout](https://www.tensorflow.org/api_docs/python/tf/nn/dropout) to one or more layers in the model using `keep_prob`. "
   ]
  },
  {
   "cell_type": "code",
   "execution_count": 12,
   "metadata": {
    "collapsed": false
   },
   "outputs": [
    {
     "name": "stdout",
     "output_type": "stream",
     "text": [
      "Neural Network Built!\n"
     ]
    }
   ],
   "source": [
    "def conv_net(x, keep_prob):\n",
    "    \"\"\"\n",
    "    Create a convolutional neural network model\n",
    "    : x: Placeholder tensor that holds image data.\n",
    "    : keep_prob: Placeholder tensor that hold dropout keep probability.\n",
    "    : return: Tensor that represents logits\n",
    "    \"\"\"\n",
    "    # TODO: Apply 1, 2, or 3 Convolution and Max Pool layers\n",
    "    #    Play around with different number of outputs, kernel size and stride\n",
    "    # Function Definition from Above:\n",
    "    #    conv2d_maxpool(x_tensor, conv_num_outputs, conv_ksize, conv_strides, pool_ksize, pool_strides)\n",
    "    \n",
    "    x = conv2d_maxpool(x, 32, (3, 3), (1, 1), (3, 3), (1, 1))\n",
    "    x = conv2d_maxpool(x, 64, (3, 3), (2, 2), (2, 2), (2, 2))\n",
    "    x = conv2d_maxpool(x, 128, (2, 2), (1, 1), (2, 2), (1, 1))\n",
    "\n",
    "\n",
    "    # TODO: Apply a Flatten Layer\n",
    "    # Function Definition from Above:\n",
    "    #   flatten(x_tensor)\n",
    "    \n",
    "    x = flatten(x)\n",
    "\n",
    "\n",
    "    # TODO: Apply 1, 2, or 3 Fully Connected Layers\n",
    "    #    Play around with different number of outputs\n",
    "    # Function Definition from Above:\n",
    "    #   fully_conn(x_tensor, num_outputs)\n",
    "    \n",
    "    x = fully_conn(x, 512)\n",
    "    x = tf.nn.dropout(x, keep_prob)\n",
    "    x = fully_conn(x, 128)\n",
    "    x = tf.nn.dropout(x, keep_prob)\n",
    "\n",
    "    \n",
    "    # TODO: Apply an Output Layer\n",
    "    #    Set this to the number of classes\n",
    "    # Function Definition from Above:\n",
    "    #   output(x_tensor, num_outputs)\n",
    "    \n",
    "    z = output(x, 10)\n",
    "\n",
    "    \n",
    "    # TODO: return output\n",
    "    return z\n",
    "\n",
    "\n",
    "\"\"\"\n",
    "DON'T MODIFY ANYTHING IN THIS CELL THAT IS BELOW THIS LINE\n",
    "\"\"\"\n",
    "\n",
    "##############################\n",
    "## Build the Neural Network ##\n",
    "##############################\n",
    "\n",
    "# Remove previous weights, bias, inputs, etc..\n",
    "tf.reset_default_graph()\n",
    "\n",
    "# Inputs\n",
    "x = neural_net_image_input((32, 32, 3))\n",
    "y = neural_net_label_input(10)\n",
    "keep_prob = neural_net_keep_prob_input()\n",
    "\n",
    "# Model\n",
    "logits = conv_net(x, keep_prob)\n",
    "\n",
    "# Name logits Tensor, so that is can be loaded from disk after training\n",
    "logits = tf.identity(logits, name='logits')\n",
    "\n",
    "# Loss and Optimizer\n",
    "cost = tf.reduce_mean(tf.nn.softmax_cross_entropy_with_logits(logits=logits, labels=y))\n",
    "optimizer = tf.train.AdamOptimizer().minimize(cost)\n",
    "\n",
    "# Accuracy\n",
    "correct_pred = tf.equal(tf.argmax(logits, 1), tf.argmax(y, 1))\n",
    "accuracy = tf.reduce_mean(tf.cast(correct_pred, tf.float32), name='accuracy')\n",
    "\n",
    "tests.test_conv_net(conv_net)"
   ]
  },
  {
   "cell_type": "markdown",
   "metadata": {},
   "source": [
    "## Train the Neural Network\n",
    "### Single Optimization\n",
    "Implement the function `train_neural_network` to do a single optimization.  The optimization should use `optimizer` to optimize in `session` with a `feed_dict` of the following:\n",
    "* `x` for image input\n",
    "* `y` for labels\n",
    "* `keep_prob` for keep probability for dropout\n",
    "\n",
    "This function will be called for each batch, so `tf.global_variables_initializer()` has already been called.\n",
    "\n",
    "Note: Nothing needs to be returned. This function is only optimizing the neural network."
   ]
  },
  {
   "cell_type": "code",
   "execution_count": 13,
   "metadata": {
    "collapsed": false
   },
   "outputs": [
    {
     "name": "stdout",
     "output_type": "stream",
     "text": [
      "Tests Passed\n"
     ]
    }
   ],
   "source": [
    "def train_neural_network(session, optimizer, keep_probability, feature_batch, label_batch):\n",
    "    \"\"\"\n",
    "    Optimize the session on a batch of images and labels\n",
    "    : session: Current TensorFlow session\n",
    "    : optimizer: TensorFlow optimizer function\n",
    "    : keep_probability: keep probability\n",
    "    : feature_batch: Batch of Numpy image data\n",
    "    : label_batch: Batch of Numpy label data\n",
    "    \"\"\"\n",
    "    # TODO: Implement Function\n",
    "    session.run(optimizer,feed_dict={x: feature_batch,y:label_batch,keep_prob:keep_probability})\n",
    "\"\"\"\n",
    "DON'T MODIFY ANYTHING IN THIS CELL THAT IS BELOW THIS LINE\n",
    "\"\"\"\n",
    "tests.test_train_nn(train_neural_network)"
   ]
  },
  {
   "cell_type": "markdown",
   "metadata": {},
   "source": [
    "### Show Stats\n",
    "Implement the function `print_stats` to print loss and validation accuracy.  Use the global variables `valid_features` and `valid_labels` to calculate validation accuracy.  Use a keep probability of `1.0` to calculate the loss and validation accuracy."
   ]
  },
  {
   "cell_type": "code",
   "execution_count": 14,
   "metadata": {
    "collapsed": false
   },
   "outputs": [],
   "source": [
    "def print_stats(session, feature_batch, label_batch, cost, accuracy):\n",
    "    \"\"\"\n",
    "    Print information about loss and validation accuracy\n",
    "    : session: Current TensorFlow session\n",
    "    : feature_batch: Batch of Numpy image data\n",
    "    : label_batch: Batch of Numpy label data\n",
    "    : cost: TensorFlow cost function\n",
    "    : accuracy: TensorFlow accuracy function\n",
    "    \"\"\"\n",
    "    # TODO: Implement Function\n",
    "    cost_value = session.run(cost, feed_dict={x: feature_batch, y: label_batch,keep_prob: 1.})\n",
    "    \n",
    "    accuracy_value = session.run(accuracy, feed_dict={x: valid_features, y: valid_labels, keep_prob: 1. })\n",
    "\n",
    "    print('Loss is:', cost_value)\n",
    "    print('Validation Accuracy is:', accuracy_value)"
   ]
  },
  {
   "cell_type": "markdown",
   "metadata": {},
   "source": [
    "### Hyperparameters\n",
    "Tune the following parameters:\n",
    "* Set `epochs` to the number of iterations until the network stops learning or start overfitting\n",
    "* Set `batch_size` to the highest number that your machine has memory for.  Most people set them to common sizes of memory:\n",
    " * 64\n",
    " * 128\n",
    " * 256\n",
    " * ...\n",
    "* Set `keep_probability` to the probability of keeping a node using dropout"
   ]
  },
  {
   "cell_type": "code",
   "execution_count": 15,
   "metadata": {
    "collapsed": true
   },
   "outputs": [],
   "source": [
    "# TODO: Tune Parameters\n",
    "epochs = 50\n",
    "batch_size = 64\n",
    "keep_probability = 0.5"
   ]
  },
  {
   "cell_type": "markdown",
   "metadata": {},
   "source": [
    "### Train on a Single CIFAR-10 Batch\n",
    "Instead of training the neural network on all the CIFAR-10 batches of data, let's use a single batch. This should save time while you iterate on the model to get a better accuracy.  Once the final validation accuracy is 50% or greater, run the model on all the data in the next section."
   ]
  },
  {
   "cell_type": "code",
   "execution_count": null,
   "metadata": {
    "collapsed": false
   },
   "outputs": [
    {
     "name": "stdout",
     "output_type": "stream",
     "text": [
      "Checking the Training on a Single Batch...\n",
      "Epoch  1, CIFAR-10 Batch 1:  Loss is: 2.11884\n",
      "Validation Accuracy is: 0.2382\n",
      "Epoch  2, CIFAR-10 Batch 1:  Loss is: 2.02975\n",
      "Validation Accuracy is: 0.3072\n",
      "Epoch  3, CIFAR-10 Batch 1:  Loss is: 1.89015\n",
      "Validation Accuracy is: 0.3532\n",
      "Epoch  4, CIFAR-10 Batch 1:  Loss is: 1.82792\n",
      "Validation Accuracy is: 0.3958\n",
      "Epoch  5, CIFAR-10 Batch 1:  Loss is: 1.64359\n",
      "Validation Accuracy is: 0.4286\n",
      "Epoch  6, CIFAR-10 Batch 1:  Loss is: 1.55792\n",
      "Validation Accuracy is: 0.4616\n",
      "Epoch  7, CIFAR-10 Batch 1:  Loss is: 1.44812\n",
      "Validation Accuracy is: 0.4828\n",
      "Epoch  8, CIFAR-10 Batch 1:  Loss is: 1.29501\n",
      "Validation Accuracy is: 0.4862\n",
      "Epoch  9, CIFAR-10 Batch 1:  Loss is: 1.2103\n",
      "Validation Accuracy is: 0.5308\n",
      "Epoch 10, CIFAR-10 Batch 1:  Loss is: 1.27072\n",
      "Validation Accuracy is: 0.5104\n",
      "Epoch 11, CIFAR-10 Batch 1:  Loss is: 1.09115\n",
      "Validation Accuracy is: 0.5492\n",
      "Epoch 12, CIFAR-10 Batch 1:  Loss is: 0.994581\n",
      "Validation Accuracy is: 0.5508\n",
      "Epoch 13, CIFAR-10 Batch 1:  Loss is: 0.862002\n",
      "Validation Accuracy is: 0.5594\n",
      "Epoch 14, CIFAR-10 Batch 1:  Loss is: 0.782416\n",
      "Validation Accuracy is: 0.5588\n",
      "Epoch 15, CIFAR-10 Batch 1:  Loss is: 0.735946\n",
      "Validation Accuracy is: 0.5772\n",
      "Epoch 16, CIFAR-10 Batch 1:  Loss is: 0.666553\n",
      "Validation Accuracy is: 0.5686\n"
     ]
    }
   ],
   "source": [
    "\"\"\"\n",
    "DON'T MODIFY ANYTHING IN THIS CELL\n",
    "\"\"\"\n",
    "print('Checking the Training on a Single Batch...')\n",
    "with tf.Session() as sess:\n",
    "    # Initializing the variables\n",
    "    sess.run(tf.global_variables_initializer())\n",
    "    \n",
    "    # Training cycle\n",
    "    for epoch in range(epochs):\n",
    "        batch_i = 1\n",
    "        for batch_features, batch_labels in helper.load_preprocess_training_batch(batch_i, batch_size):\n",
    "            train_neural_network(sess, optimizer, keep_probability, batch_features, batch_labels)\n",
    "        print('Epoch {:>2}, CIFAR-10 Batch {}:  '.format(epoch + 1, batch_i), end='')\n",
    "        print_stats(sess, batch_features, batch_labels, cost, accuracy)"
   ]
  },
  {
   "cell_type": "markdown",
   "metadata": {},
   "source": [
    "### Fully Train the Model\n",
    "Now that you got a good accuracy with a single CIFAR-10 batch, try it with all five batches."
   ]
  },
  {
   "cell_type": "code",
   "execution_count": 26,
   "metadata": {
    "collapsed": false
   },
   "outputs": [
    {
     "name": "stdout",
     "output_type": "stream",
     "text": [
      "Training...\n",
      "Epoch  1, CIFAR-10 Batch 1:  Loss:     2.2929 accuracy: 0.147600\n",
      "Epoch  1, CIFAR-10 Batch 2:  Loss:     2.0897 accuracy: 0.221000\n",
      "Epoch  1, CIFAR-10 Batch 3:  Loss:     1.8142 accuracy: 0.238400\n",
      "Epoch  1, CIFAR-10 Batch 4:  Loss:     1.8336 accuracy: 0.251400\n",
      "Epoch  1, CIFAR-10 Batch 5:  Loss:     1.9674 accuracy: 0.275600\n",
      "Epoch  2, CIFAR-10 Batch 1:  Loss:     1.9731 accuracy: 0.299600\n",
      "Epoch  2, CIFAR-10 Batch 2:  Loss:     1.9583 accuracy: 0.327400\n",
      "Epoch  2, CIFAR-10 Batch 3:  Loss:     1.6406 accuracy: 0.318400\n",
      "Epoch  2, CIFAR-10 Batch 4:  Loss:     1.7078 accuracy: 0.308200\n",
      "Epoch  2, CIFAR-10 Batch 5:  Loss:     1.8479 accuracy: 0.358000\n",
      "Epoch  3, CIFAR-10 Batch 1:  Loss:     1.8559 accuracy: 0.374400\n",
      "Epoch  3, CIFAR-10 Batch 2:  Loss:     1.8224 accuracy: 0.375000\n",
      "Epoch  3, CIFAR-10 Batch 3:  Loss:     1.4051 accuracy: 0.384200\n",
      "Epoch  3, CIFAR-10 Batch 4:  Loss:     1.5543 accuracy: 0.361000\n",
      "Epoch  3, CIFAR-10 Batch 5:  Loss:     1.6932 accuracy: 0.407400\n",
      "Epoch  4, CIFAR-10 Batch 1:  Loss:     1.5937 accuracy: 0.427600\n",
      "Epoch  4, CIFAR-10 Batch 2:  Loss:     1.6744 accuracy: 0.408200\n",
      "Epoch  4, CIFAR-10 Batch 3:  Loss:     1.2459 accuracy: 0.431600\n",
      "Epoch  4, CIFAR-10 Batch 4:  Loss:     1.4814 accuracy: 0.419400\n",
      "Epoch  4, CIFAR-10 Batch 5:  Loss:     1.6337 accuracy: 0.455200\n",
      "Epoch  5, CIFAR-10 Batch 1:  Loss:     1.4717 accuracy: 0.464600\n",
      "Epoch  5, CIFAR-10 Batch 2:  Loss:     1.6023 accuracy: 0.462200\n",
      "Epoch  5, CIFAR-10 Batch 3:  Loss:     1.1868 accuracy: 0.467600\n",
      "Epoch  5, CIFAR-10 Batch 4:  Loss:     1.3873 accuracy: 0.455000\n",
      "Epoch  5, CIFAR-10 Batch 5:  Loss:     1.5294 accuracy: 0.486600\n",
      "Epoch  6, CIFAR-10 Batch 1:  Loss:     1.3249 accuracy: 0.502600\n",
      "Epoch  6, CIFAR-10 Batch 2:  Loss:     1.5206 accuracy: 0.508600\n",
      "Epoch  6, CIFAR-10 Batch 3:  Loss:     1.1237 accuracy: 0.488000\n",
      "Epoch  6, CIFAR-10 Batch 4:  Loss:     1.3264 accuracy: 0.505600\n",
      "Epoch  6, CIFAR-10 Batch 5:  Loss:     1.3634 accuracy: 0.512200\n",
      "Epoch  7, CIFAR-10 Batch 1:  Loss:     1.2967 accuracy: 0.518800\n",
      "Epoch  7, CIFAR-10 Batch 2:  Loss:     1.4412 accuracy: 0.526800\n",
      "Epoch  7, CIFAR-10 Batch 3:  Loss:     1.0827 accuracy: 0.512800\n",
      "Epoch  7, CIFAR-10 Batch 4:  Loss:     1.2973 accuracy: 0.510000\n",
      "Epoch  7, CIFAR-10 Batch 5:  Loss:     1.3198 accuracy: 0.528000\n",
      "Epoch  8, CIFAR-10 Batch 1:  Loss:     1.2439 accuracy: 0.535800\n",
      "Epoch  8, CIFAR-10 Batch 2:  Loss:     1.3441 accuracy: 0.534400\n",
      "Epoch  8, CIFAR-10 Batch 3:  Loss:     1.0243 accuracy: 0.521400\n",
      "Epoch  8, CIFAR-10 Batch 4:  Loss:     1.2455 accuracy: 0.531800\n",
      "Epoch  8, CIFAR-10 Batch 5:  Loss:     1.2988 accuracy: 0.529000\n",
      "Epoch  9, CIFAR-10 Batch 1:  Loss:     1.2490 accuracy: 0.541200\n",
      "Epoch  9, CIFAR-10 Batch 2:  Loss:     1.2935 accuracy: 0.541400\n",
      "Epoch  9, CIFAR-10 Batch 3:  Loss:     0.9369 accuracy: 0.545400\n",
      "Epoch  9, CIFAR-10 Batch 4:  Loss:     1.1875 accuracy: 0.540400\n",
      "Epoch  9, CIFAR-10 Batch 5:  Loss:     1.2530 accuracy: 0.540600\n",
      "Epoch 10, CIFAR-10 Batch 1:  Loss:     1.1854 accuracy: 0.557600\n",
      "Epoch 10, CIFAR-10 Batch 2:  Loss:     1.1756 accuracy: 0.533600\n",
      "Epoch 10, CIFAR-10 Batch 3:  Loss:     0.9250 accuracy: 0.544200\n",
      "Epoch 10, CIFAR-10 Batch 4:  Loss:     1.1059 accuracy: 0.550200\n",
      "Epoch 10, CIFAR-10 Batch 5:  Loss:     1.1213 accuracy: 0.557000\n",
      "Epoch 11, CIFAR-10 Batch 1:  Loss:     1.1154 accuracy: 0.571000\n",
      "Epoch 11, CIFAR-10 Batch 2:  Loss:     1.1405 accuracy: 0.561800\n",
      "Epoch 11, CIFAR-10 Batch 3:  Loss:     0.8915 accuracy: 0.559400\n",
      "Epoch 11, CIFAR-10 Batch 4:  Loss:     1.1264 accuracy: 0.565000\n",
      "Epoch 11, CIFAR-10 Batch 5:  Loss:     1.1057 accuracy: 0.574400\n",
      "Epoch 12, CIFAR-10 Batch 1:  Loss:     1.1370 accuracy: 0.565600\n",
      "Epoch 12, CIFAR-10 Batch 2:  Loss:     1.0880 accuracy: 0.559400\n",
      "Epoch 12, CIFAR-10 Batch 3:  Loss:     0.8371 accuracy: 0.569200\n",
      "Epoch 12, CIFAR-10 Batch 4:  Loss:     1.0597 accuracy: 0.565600\n",
      "Epoch 12, CIFAR-10 Batch 5:  Loss:     1.1032 accuracy: 0.564400\n",
      "Epoch 13, CIFAR-10 Batch 1:  Loss:     1.0579 accuracy: 0.588400\n",
      "Epoch 13, CIFAR-10 Batch 2:  Loss:     1.0888 accuracy: 0.568400\n",
      "Epoch 13, CIFAR-10 Batch 3:  Loss:     0.7677 accuracy: 0.576800\n",
      "Epoch 13, CIFAR-10 Batch 4:  Loss:     1.0047 accuracy: 0.581800\n",
      "Epoch 13, CIFAR-10 Batch 5:  Loss:     1.0115 accuracy: 0.576200\n",
      "Epoch 14, CIFAR-10 Batch 1:  Loss:     1.0492 accuracy: 0.592600\n",
      "Epoch 14, CIFAR-10 Batch 2:  Loss:     1.0556 accuracy: 0.577600\n",
      "Epoch 14, CIFAR-10 Batch 3:  Loss:     0.7532 accuracy: 0.578600\n",
      "Epoch 14, CIFAR-10 Batch 4:  Loss:     0.9582 accuracy: 0.591200\n",
      "Epoch 14, CIFAR-10 Batch 5:  Loss:     1.0234 accuracy: 0.571200\n",
      "Epoch 15, CIFAR-10 Batch 1:  Loss:     0.9766 accuracy: 0.598600\n",
      "Epoch 15, CIFAR-10 Batch 2:  Loss:     1.0227 accuracy: 0.597400\n",
      "Epoch 15, CIFAR-10 Batch 3:  Loss:     0.7068 accuracy: 0.593600\n",
      "Epoch 15, CIFAR-10 Batch 4:  Loss:     0.9943 accuracy: 0.588000\n",
      "Epoch 15, CIFAR-10 Batch 5:  Loss:     0.9933 accuracy: 0.582600\n",
      "Epoch 16, CIFAR-10 Batch 1:  Loss:     0.9510 accuracy: 0.601000\n",
      "Epoch 16, CIFAR-10 Batch 2:  Loss:     0.9837 accuracy: 0.591600\n",
      "Epoch 16, CIFAR-10 Batch 3:  Loss:     0.6654 accuracy: 0.604000\n",
      "Epoch 16, CIFAR-10 Batch 4:  Loss:     0.8958 accuracy: 0.605600\n",
      "Epoch 16, CIFAR-10 Batch 5:  Loss:     0.9479 accuracy: 0.602200\n",
      "Epoch 17, CIFAR-10 Batch 1:  Loss:     0.9660 accuracy: 0.602800\n",
      "Epoch 17, CIFAR-10 Batch 2:  Loss:     0.9744 accuracy: 0.606000\n",
      "Epoch 17, CIFAR-10 Batch 3:  Loss:     0.6424 accuracy: 0.577800\n",
      "Epoch 17, CIFAR-10 Batch 4:  Loss:     0.8990 accuracy: 0.605400\n",
      "Epoch 17, CIFAR-10 Batch 5:  Loss:     0.9428 accuracy: 0.579200\n",
      "Epoch 18, CIFAR-10 Batch 1:  Loss:     0.9423 accuracy: 0.618000\n",
      "Epoch 18, CIFAR-10 Batch 2:  Loss:     0.9061 accuracy: 0.606200\n",
      "Epoch 18, CIFAR-10 Batch 3:  Loss:     0.5879 accuracy: 0.602200\n",
      "Epoch 18, CIFAR-10 Batch 4:  Loss:     0.8702 accuracy: 0.605400\n",
      "Epoch 18, CIFAR-10 Batch 5:  Loss:     0.8686 accuracy: 0.603600\n",
      "Epoch 19, CIFAR-10 Batch 1:  Loss:     0.8481 accuracy: 0.626400\n",
      "Epoch 19, CIFAR-10 Batch 2:  Loss:     0.9404 accuracy: 0.607600\n",
      "Epoch 19, CIFAR-10 Batch 3:  Loss:     0.5573 accuracy: 0.611200\n",
      "Epoch 19, CIFAR-10 Batch 4:  Loss:     0.8715 accuracy: 0.606000\n",
      "Epoch 19, CIFAR-10 Batch 5:  Loss:     0.8229 accuracy: 0.610000\n",
      "Epoch 20, CIFAR-10 Batch 1:  Loss:     0.8410 accuracy: 0.623800\n",
      "Epoch 20, CIFAR-10 Batch 2:  Loss:     0.8565 accuracy: 0.615800\n",
      "Epoch 20, CIFAR-10 Batch 3:  Loss:     0.5689 accuracy: 0.611600\n",
      "Epoch 20, CIFAR-10 Batch 4:  Loss:     0.7904 accuracy: 0.611200\n",
      "Epoch 20, CIFAR-10 Batch 5:  Loss:     0.8152 accuracy: 0.616000\n",
      "Epoch 21, CIFAR-10 Batch 1:  Loss:     0.7738 accuracy: 0.626000\n",
      "Epoch 21, CIFAR-10 Batch 2:  Loss:     0.7670 accuracy: 0.620000\n",
      "Epoch 21, CIFAR-10 Batch 3:  Loss:     0.5593 accuracy: 0.617800\n",
      "Epoch 21, CIFAR-10 Batch 4:  Loss:     0.7737 accuracy: 0.610000\n",
      "Epoch 21, CIFAR-10 Batch 5:  Loss:     0.7604 accuracy: 0.615200\n",
      "Epoch 22, CIFAR-10 Batch 1:  Loss:     0.7684 accuracy: 0.628400\n",
      "Epoch 22, CIFAR-10 Batch 2:  Loss:     0.8015 accuracy: 0.622000\n",
      "Epoch 22, CIFAR-10 Batch 3:  Loss:     0.4901 accuracy: 0.614800\n",
      "Epoch 22, CIFAR-10 Batch 4:  Loss:     0.7316 accuracy: 0.626400\n",
      "Epoch 22, CIFAR-10 Batch 5:  Loss:     0.6780 accuracy: 0.632600\n",
      "Epoch 23, CIFAR-10 Batch 1:  Loss:     0.7305 accuracy: 0.619400\n",
      "Epoch 23, CIFAR-10 Batch 2:  Loss:     0.7997 accuracy: 0.614400\n",
      "Epoch 23, CIFAR-10 Batch 3:  Loss:     0.4888 accuracy: 0.619800\n",
      "Epoch 23, CIFAR-10 Batch 4:  Loss:     0.7187 accuracy: 0.621600\n",
      "Epoch 23, CIFAR-10 Batch 5:  Loss:     0.6743 accuracy: 0.621800\n",
      "Epoch 24, CIFAR-10 Batch 1:  Loss:     0.7201 accuracy: 0.631000\n",
      "Epoch 24, CIFAR-10 Batch 2:  Loss:     0.7183 accuracy: 0.624600\n",
      "Epoch 24, CIFAR-10 Batch 3:  Loss:     0.5477 accuracy: 0.594000\n",
      "Epoch 24, CIFAR-10 Batch 4:  Loss:     0.6559 accuracy: 0.628800\n",
      "Epoch 24, CIFAR-10 Batch 5:  Loss:     0.6368 accuracy: 0.631600\n",
      "Epoch 25, CIFAR-10 Batch 1:  Loss:     0.7142 accuracy: 0.632200\n",
      "Epoch 25, CIFAR-10 Batch 2:  Loss:     0.6712 accuracy: 0.624200\n",
      "Epoch 25, CIFAR-10 Batch 3:  Loss:     0.4637 accuracy: 0.627000\n",
      "Epoch 25, CIFAR-10 Batch 4:  Loss:     0.6409 accuracy: 0.630200\n",
      "Epoch 25, CIFAR-10 Batch 5:  Loss:     0.6214 accuracy: 0.625400\n",
      "Epoch 26, CIFAR-10 Batch 1:  Loss:     0.6952 accuracy: 0.635800\n",
      "Epoch 26, CIFAR-10 Batch 2:  Loss:     0.6950 accuracy: 0.631800\n",
      "Epoch 26, CIFAR-10 Batch 3:  Loss:     0.4250 accuracy: 0.628600\n",
      "Epoch 26, CIFAR-10 Batch 4:  Loss:     0.5926 accuracy: 0.636400\n",
      "Epoch 26, CIFAR-10 Batch 5:  Loss:     0.6439 accuracy: 0.623000\n",
      "Epoch 27, CIFAR-10 Batch 1:  Loss:     0.6685 accuracy: 0.644200\n",
      "Epoch 27, CIFAR-10 Batch 2:  Loss:     0.6762 accuracy: 0.640400\n",
      "Epoch 27, CIFAR-10 Batch 3:  Loss:     0.4229 accuracy: 0.637200\n",
      "Epoch 27, CIFAR-10 Batch 4:  Loss:     0.6400 accuracy: 0.627400\n",
      "Epoch 27, CIFAR-10 Batch 5:  Loss:     0.5862 accuracy: 0.623200\n",
      "Epoch 28, CIFAR-10 Batch 1:  Loss:     0.6195 accuracy: 0.629200\n",
      "Epoch 28, CIFAR-10 Batch 2:  Loss:     0.6666 accuracy: 0.627400\n",
      "Epoch 28, CIFAR-10 Batch 3:  Loss:     0.4246 accuracy: 0.636800\n",
      "Epoch 28, CIFAR-10 Batch 4:  Loss:     0.6053 accuracy: 0.636000\n",
      "Epoch 28, CIFAR-10 Batch 5:  Loss:     0.5680 accuracy: 0.622600\n",
      "Epoch 29, CIFAR-10 Batch 1:  Loss:     0.6704 accuracy: 0.637000\n",
      "Epoch 29, CIFAR-10 Batch 2:  Loss:     0.6406 accuracy: 0.638600\n",
      "Epoch 29, CIFAR-10 Batch 3:  Loss:     0.4326 accuracy: 0.633800\n",
      "Epoch 29, CIFAR-10 Batch 4:  Loss:     0.5868 accuracy: 0.631200\n",
      "Epoch 29, CIFAR-10 Batch 5:  Loss:     0.5129 accuracy: 0.638200\n",
      "Epoch 30, CIFAR-10 Batch 1:  Loss:     0.6306 accuracy: 0.639800\n",
      "Epoch 30, CIFAR-10 Batch 2:  Loss:     0.6171 accuracy: 0.638600\n",
      "Epoch 30, CIFAR-10 Batch 3:  Loss:     0.4314 accuracy: 0.634200\n",
      "Epoch 30, CIFAR-10 Batch 4:  Loss:     0.5704 accuracy: 0.628800\n",
      "Epoch 30, CIFAR-10 Batch 5:  Loss:     0.4772 accuracy: 0.638800\n",
      "Epoch 31, CIFAR-10 Batch 1:  Loss:     0.5784 accuracy: 0.645400\n",
      "Epoch 31, CIFAR-10 Batch 2:  Loss:     0.5423 accuracy: 0.638200\n",
      "Epoch 31, CIFAR-10 Batch 3:  Loss:     0.3926 accuracy: 0.642400\n",
      "Epoch 31, CIFAR-10 Batch 4:  Loss:     0.5803 accuracy: 0.634400\n",
      "Epoch 31, CIFAR-10 Batch 5:  Loss:     0.4750 accuracy: 0.644600\n",
      "Epoch 32, CIFAR-10 Batch 1:  Loss:     0.5333 accuracy: 0.645000\n",
      "Epoch 32, CIFAR-10 Batch 2:  Loss:     0.5615 accuracy: 0.638400\n",
      "Epoch 32, CIFAR-10 Batch 3:  Loss:     0.3916 accuracy: 0.630600\n",
      "Epoch 32, CIFAR-10 Batch 4:  Loss:     0.5561 accuracy: 0.638000\n",
      "Epoch 32, CIFAR-10 Batch 5:  Loss:     0.4517 accuracy: 0.635000\n",
      "Epoch 33, CIFAR-10 Batch 1:  Loss:     0.5455 accuracy: 0.643200\n",
      "Epoch 33, CIFAR-10 Batch 2:  Loss:     0.5462 accuracy: 0.646400\n",
      "Epoch 33, CIFAR-10 Batch 3:  Loss:     0.3765 accuracy: 0.640000\n",
      "Epoch 33, CIFAR-10 Batch 4:  Loss:     0.5241 accuracy: 0.634800\n",
      "Epoch 33, CIFAR-10 Batch 5:  Loss:     0.4568 accuracy: 0.634800\n",
      "Epoch 34, CIFAR-10 Batch 1:  Loss:     0.5098 accuracy: 0.644400\n",
      "Epoch 34, CIFAR-10 Batch 2:  Loss:     0.4985 accuracy: 0.650400\n",
      "Epoch 34, CIFAR-10 Batch 3:  Loss:     0.4030 accuracy: 0.633600\n",
      "Epoch 34, CIFAR-10 Batch 4:  Loss:     0.4715 accuracy: 0.642200\n",
      "Epoch 34, CIFAR-10 Batch 5:  Loss:     0.5204 accuracy: 0.634200\n",
      "Epoch 35, CIFAR-10 Batch 1:  Loss:     0.5402 accuracy: 0.650200\n",
      "Epoch 35, CIFAR-10 Batch 2:  Loss:     0.5061 accuracy: 0.645000\n",
      "Epoch 35, CIFAR-10 Batch 3:  Loss:     0.3433 accuracy: 0.641400\n",
      "Epoch 35, CIFAR-10 Batch 4:  Loss:     0.4896 accuracy: 0.644000\n",
      "Epoch 35, CIFAR-10 Batch 5:  Loss:     0.3855 accuracy: 0.638800\n",
      "Epoch 36, CIFAR-10 Batch 1:  Loss:     0.5804 accuracy: 0.635600\n",
      "Epoch 36, CIFAR-10 Batch 2:  Loss:     0.5550 accuracy: 0.644600\n",
      "Epoch 36, CIFAR-10 Batch 3:  Loss:     0.3149 accuracy: 0.639600\n",
      "Epoch 36, CIFAR-10 Batch 4:  Loss:     0.4413 accuracy: 0.642800\n",
      "Epoch 36, CIFAR-10 Batch 5:  Loss:     0.4123 accuracy: 0.631000\n",
      "Epoch 37, CIFAR-10 Batch 1:  Loss:     0.5453 accuracy: 0.642000\n",
      "Epoch 37, CIFAR-10 Batch 2:  Loss:     0.5338 accuracy: 0.649000\n",
      "Epoch 37, CIFAR-10 Batch 3:  Loss:     0.3427 accuracy: 0.642000\n",
      "Epoch 37, CIFAR-10 Batch 4:  Loss:     0.4199 accuracy: 0.652600\n",
      "Epoch 37, CIFAR-10 Batch 5:  Loss:     0.3778 accuracy: 0.638200\n",
      "Epoch 38, CIFAR-10 Batch 1:  Loss:     0.5085 accuracy: 0.650600\n",
      "Epoch 38, CIFAR-10 Batch 2:  Loss:     0.4795 accuracy: 0.642200\n",
      "Epoch 38, CIFAR-10 Batch 3:  Loss:     0.3142 accuracy: 0.636400\n",
      "Epoch 38, CIFAR-10 Batch 4:  Loss:     0.4397 accuracy: 0.655600\n",
      "Epoch 38, CIFAR-10 Batch 5:  Loss:     0.3926 accuracy: 0.643400\n",
      "Epoch 39, CIFAR-10 Batch 1:  Loss:     0.5291 accuracy: 0.641600\n",
      "Epoch 39, CIFAR-10 Batch 2:  Loss:     0.4880 accuracy: 0.645600\n",
      "Epoch 39, CIFAR-10 Batch 3:  Loss:     0.3151 accuracy: 0.649400\n",
      "Epoch 39, CIFAR-10 Batch 4:  Loss:     0.4177 accuracy: 0.646600\n",
      "Epoch 39, CIFAR-10 Batch 5:  Loss:     0.4061 accuracy: 0.643200\n",
      "Epoch 40, CIFAR-10 Batch 1:  Loss:     0.4943 accuracy: 0.646400\n",
      "Epoch 40, CIFAR-10 Batch 2:  Loss:     0.5013 accuracy: 0.647400\n",
      "Epoch 40, CIFAR-10 Batch 3:  Loss:     0.3084 accuracy: 0.649200\n",
      "Epoch 40, CIFAR-10 Batch 4:  Loss:     0.4113 accuracy: 0.651000\n",
      "Epoch 40, CIFAR-10 Batch 5:  Loss:     0.3776 accuracy: 0.634400\n",
      "Epoch 41, CIFAR-10 Batch 1:  Loss:     0.5084 accuracy: 0.634600\n",
      "Epoch 41, CIFAR-10 Batch 2:  Loss:     0.4149 accuracy: 0.655200\n",
      "Epoch 41, CIFAR-10 Batch 3:  Loss:     0.3082 accuracy: 0.647800\n",
      "Epoch 41, CIFAR-10 Batch 4:  Loss:     0.4193 accuracy: 0.646400\n",
      "Epoch 41, CIFAR-10 Batch 5:  Loss:     0.3779 accuracy: 0.640600\n",
      "Epoch 42, CIFAR-10 Batch 1:  Loss:     0.4576 accuracy: 0.651800\n",
      "Epoch 42, CIFAR-10 Batch 2:  Loss:     0.4483 accuracy: 0.639000\n",
      "Epoch 42, CIFAR-10 Batch 3:  Loss:     0.3145 accuracy: 0.642400\n",
      "Epoch 42, CIFAR-10 Batch 4:  Loss:     0.3548 accuracy: 0.657000\n",
      "Epoch 42, CIFAR-10 Batch 5:  Loss:     0.3379 accuracy: 0.643200\n",
      "Epoch 43, CIFAR-10 Batch 1:  Loss:     0.4509 accuracy: 0.641800\n",
      "Epoch 43, CIFAR-10 Batch 2:  Loss:     0.4618 accuracy: 0.648000\n",
      "Epoch 43, CIFAR-10 Batch 3:  Loss:     0.2897 accuracy: 0.650600\n",
      "Epoch 43, CIFAR-10 Batch 4:  Loss:     0.3819 accuracy: 0.657800\n",
      "Epoch 43, CIFAR-10 Batch 5:  Loss:     0.3282 accuracy: 0.641000\n",
      "Epoch 44, CIFAR-10 Batch 1:  Loss:     0.4529 accuracy: 0.650000\n",
      "Epoch 44, CIFAR-10 Batch 2:  Loss:     0.4282 accuracy: 0.644800\n",
      "Epoch 44, CIFAR-10 Batch 3:  Loss:     0.2701 accuracy: 0.647200\n",
      "Epoch 44, CIFAR-10 Batch 4:  Loss:     0.3736 accuracy: 0.645200\n",
      "Epoch 44, CIFAR-10 Batch 5:  Loss:     0.3310 accuracy: 0.643600\n",
      "Epoch 45, CIFAR-10 Batch 1:  Loss:     0.4738 accuracy: 0.648800\n",
      "Epoch 45, CIFAR-10 Batch 2:  Loss:     0.3924 accuracy: 0.647000\n",
      "Epoch 45, CIFAR-10 Batch 3:  Loss:     0.3085 accuracy: 0.644000\n",
      "Epoch 45, CIFAR-10 Batch 4:  Loss:     0.3881 accuracy: 0.646600\n",
      "Epoch 45, CIFAR-10 Batch 5:  Loss:     0.3541 accuracy: 0.646800\n",
      "Epoch 46, CIFAR-10 Batch 1:  Loss:     0.4906 accuracy: 0.646400\n",
      "Epoch 46, CIFAR-10 Batch 2:  Loss:     0.3562 accuracy: 0.657800\n",
      "Epoch 46, CIFAR-10 Batch 3:  Loss:     0.2920 accuracy: 0.647600\n",
      "Epoch 46, CIFAR-10 Batch 4:  Loss:     0.3165 accuracy: 0.660200\n",
      "Epoch 46, CIFAR-10 Batch 5:  Loss:     0.3154 accuracy: 0.641800\n",
      "Epoch 47, CIFAR-10 Batch 1:  Loss:     0.4686 accuracy: 0.651000\n",
      "Epoch 47, CIFAR-10 Batch 2:  Loss:     0.3802 accuracy: 0.658000\n",
      "Epoch 47, CIFAR-10 Batch 3:  Loss:     0.3080 accuracy: 0.645800\n",
      "Epoch 47, CIFAR-10 Batch 4:  Loss:     0.3574 accuracy: 0.665200\n",
      "Epoch 47, CIFAR-10 Batch 5:  Loss:     0.2918 accuracy: 0.643400\n",
      "Epoch 48, CIFAR-10 Batch 1:  Loss:     0.4248 accuracy: 0.644200\n",
      "Epoch 48, CIFAR-10 Batch 2:  Loss:     0.4002 accuracy: 0.649000\n",
      "Epoch 48, CIFAR-10 Batch 3:  Loss:     0.2798 accuracy: 0.648400\n",
      "Epoch 48, CIFAR-10 Batch 4:  Loss:     0.3307 accuracy: 0.656000\n",
      "Epoch 48, CIFAR-10 Batch 5:  Loss:     0.2640 accuracy: 0.650000\n",
      "Epoch 49, CIFAR-10 Batch 1:  Loss:     0.4065 accuracy: 0.643000\n",
      "Epoch 49, CIFAR-10 Batch 2:  Loss:     0.3533 accuracy: 0.660200\n",
      "Epoch 49, CIFAR-10 Batch 3:  Loss:     0.2586 accuracy: 0.655000\n",
      "Epoch 49, CIFAR-10 Batch 4:  Loss:     0.3306 accuracy: 0.649800\n",
      "Epoch 49, CIFAR-10 Batch 5:  Loss:     0.2978 accuracy: 0.651200\n",
      "Epoch 50, CIFAR-10 Batch 1:  Loss:     0.4725 accuracy: 0.644000\n",
      "Epoch 50, CIFAR-10 Batch 2:  Loss:     0.3714 accuracy: 0.653800\n",
      "Epoch 50, CIFAR-10 Batch 3:  Loss:     0.2762 accuracy: 0.647400\n",
      "Epoch 50, CIFAR-10 Batch 4:  Loss:     0.3334 accuracy: 0.653400\n",
      "Epoch 50, CIFAR-10 Batch 5:  Loss:     0.2816 accuracy: 0.653200\n"
     ]
    }
   ],
   "source": [
    "\"\"\"\n",
    "DON'T MODIFY ANYTHING IN THIS CELL\n",
    "\"\"\"\n",
    "save_model_path = './image_classification'\n",
    "\n",
    "print('Training...')\n",
    "with tf.Session() as sess:\n",
    "    # Initializing the variables\n",
    "    sess.run(tf.global_variables_initializer())\n",
    "    \n",
    "    # Training cycle\n",
    "    for epoch in range(epochs):\n",
    "        # Loop over all batches\n",
    "        n_batches = 5\n",
    "        for batch_i in range(1, n_batches + 1):\n",
    "            for batch_features, batch_labels in helper.load_preprocess_training_batch(batch_i, batch_size):\n",
    "                train_neural_network(sess, optimizer, keep_probability, batch_features, batch_labels)\n",
    "            print('Epoch {:>2}, CIFAR-10 Batch {}:  '.format(epoch + 1, batch_i), end='')\n",
    "            print_stats(sess, batch_features, batch_labels, cost, accuracy)\n",
    "            \n",
    "    # Save Model\n",
    "    saver = tf.train.Saver()\n",
    "    save_path = saver.save(sess, save_model_path)"
   ]
  },
  {
   "cell_type": "markdown",
   "metadata": {},
   "source": [
    "# Checkpoint\n",
    "The model has been saved to disk.\n",
    "## Test Model\n",
    "Test your model against the test dataset.  This will be your final accuracy. You should have an accuracy greater than 50%. If you don't, keep tweaking the model architecture and parameters."
   ]
  },
  {
   "cell_type": "code",
   "execution_count": 27,
   "metadata": {
    "collapsed": false
   },
   "outputs": [
    {
     "name": "stdout",
     "output_type": "stream",
     "text": [
      "INFO:tensorflow:Restoring parameters from ./image_classification\n",
      "Testing Accuracy: 0.6587223101265823\n",
      "\n"
     ]
    },
    {
     "data": {
      "image/png": "[encoded data removed]",
      "text/plain": [
       "<matplotlib.figure.Figure at 0x10f0fd0f0>"
      ]
     },
     "metadata": {
      "image/png": {
       "height": 319,
       "width": 355
      }
     },
     "output_type": "display_data"
    }
   ],
   "source": [
    "\"\"\"\n",
    "DON'T MODIFY ANYTHING IN THIS CELL\n",
    "\"\"\"\n",
    "%matplotlib inline\n",
    "%config InlineBackend.figure_format = 'retina'\n",
    "\n",
    "import tensorflow as tf\n",
    "import pickle\n",
    "import helper\n",
    "import random\n",
    "\n",
    "# Set batch size if not already set\n",
    "try:\n",
    "    if batch_size:\n",
    "        pass\n",
    "except NameError:\n",
    "    batch_size = 64\n",
    "\n",
    "save_model_path = './image_classification'\n",
    "n_samples = 4\n",
    "top_n_predictions = 3\n",
    "\n",
    "def test_model():\n",
    "    \"\"\"\n",
    "    Test the saved model against the test dataset\n",
    "    \"\"\"\n",
    "\n",
    "    test_features, test_labels = pickle.load(open('preprocess_test.p', mode='rb'))\n",
    "    loaded_graph = tf.Graph()\n",
    "\n",
    "    with tf.Session(graph=loaded_graph) as sess:\n",
    "        # Load model\n",
    "        loader = tf.train.import_meta_graph(save_model_path + '.meta')\n",
    "        loader.restore(sess, save_model_path)\n",
    "\n",
    "        # Get Tensors from loaded model\n",
    "        loaded_x = loaded_graph.get_tensor_by_name('x:0')\n",
    "        loaded_y = loaded_graph.get_tensor_by_name('y:0')\n",
    "        loaded_keep_prob = loaded_graph.get_tensor_by_name('keep_prob:0')\n",
    "        loaded_logits = loaded_graph.get_tensor_by_name('logits:0')\n",
    "        loaded_acc = loaded_graph.get_tensor_by_name('accuracy:0')\n",
    "        \n",
    "        # Get accuracy in batches for memory limitations\n",
    "        test_batch_acc_total = 0\n",
    "        test_batch_count = 0\n",
    "        \n",
    "        for test_feature_batch, test_label_batch in helper.batch_features_labels(test_features, test_labels, batch_size):\n",
    "            test_batch_acc_total += sess.run(\n",
    "                loaded_acc,\n",
    "                feed_dict={loaded_x: test_feature_batch, loaded_y: test_label_batch, loaded_keep_prob: 1.0})\n",
    "            test_batch_count += 1\n",
    "\n",
    "        print('Testing Accuracy: {}\\n'.format(test_batch_acc_total/test_batch_count))\n",
    "\n",
    "        # Print Random Samples\n",
    "        random_test_features, random_test_labels = tuple(zip(*random.sample(list(zip(test_features, test_labels)), n_samples)))\n",
    "        random_test_predictions = sess.run(\n",
    "            tf.nn.top_k(tf.nn.softmax(loaded_logits), top_n_predictions),\n",
    "            feed_dict={loaded_x: random_test_features, loaded_y: random_test_labels, loaded_keep_prob: 1.0})\n",
    "        helper.display_image_predictions(random_test_features, random_test_labels, random_test_predictions)\n",
    "\n",
    "\n",
    "test_model()"
   ]
  },
  {
   "cell_type": "markdown",
   "metadata": {},
   "source": [
    "## Why 50-80% Accuracy?\n",
    "You might be wondering why you can't get an accuracy any higher. First things first, 50% isn't bad for a simple CNN.  Pure guessing would get you 10% accuracy. However, you might notice people are getting scores [well above 80%](http://rodrigob.github.io/are_we_there_yet/build/classification_datasets_results.html#43494641522d3130).  That's because we haven't taught you all there is to know about neural networks. We still need to cover a few more techniques.\n",
    "## Submitting This Project\n",
    "When submitting this project, make sure to run all the cells before saving the notebook.  Save the notebook file as \"dlnd_image_classification.ipynb\" and save it as a HTML file under \"File\" -> \"Download as\".  Include the \"helper.py\" and \"problem_unittests.py\" files in your submission."
   ]
  }
 ],
 "metadata": {
  "kernelspec": {
   "display_name": "Python 3",
   "language": "python",
   "name": "python3"
  },
  "language_info": {
   "codemirror_mode": {
    "name": "ipython",
    "version": 3
   },
   "file_extension": ".py",
   "mimetype": "text/x-python",
   "name": "python",
   "nbconvert_exporter": "python",
   "pygments_lexer": "ipython3",
   "version": "3.6.0"
  }
 },
 "nbformat": 4,
 "nbformat_minor": 1
}
